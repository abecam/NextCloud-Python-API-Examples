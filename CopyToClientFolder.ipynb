{
 "cells": [
  {
   "cell_type": "code",
   "execution_count": null,
   "id": "ecc5a110-4179-47ef-986c-34d71a31e14c",
   "metadata": {},
   "outputs": [],
   "source": [
    "import os\n",
    "import shutil"
   ]
  },
  {
   "cell_type": "markdown",
   "id": "2ef10f93-42e2-4c08-b4c8-652ea8fa2de7",
   "metadata": {},
   "source": [
    "Copy a file to the NextCloud sync folder (use copy to use a destination folder, copyfile need the destination file name) "
   ]
  },
  {
   "cell_type": "code",
   "execution_count": null,
   "id": "8093e216-1a03-4add-b92c-a16488586622",
   "metadata": {},
   "outputs": [],
   "source": [
    "shutil.copyfile(\"./VisbySmall.JPG\", \"/path_to_your_NextCloud_sync_folder/VisbySmall.JPG\")"
   ]
  },
  {
   "cell_type": "markdown",
   "id": "fad7d78c-681c-4308-bea0-feeb87a5e62c",
   "metadata": {},
   "source": [
    "Copy a folder"
   ]
  },
  {
   "cell_type": "code",
   "execution_count": null,
   "id": "b53d84b6-3a41-4260-a665-9e7d69beba5f",
   "metadata": {},
   "outputs": [],
   "source": [
    "shutil.copytree(\"./FilesToCopy/\", \"/path_to_your_NextCloud_sync_folder/FilesToCopy/\")"
   ]
  },
  {
   "cell_type": "markdown",
   "id": "f7b2b349-9dd2-4d53-84b0-605686ff8ac0",
   "metadata": {},
   "source": [
    "Ask for a sync. Note that it is normally not needed."
   ]
  },
  {
   "cell_type": "code",
   "execution_count": null,
   "id": "5606cfd4-133d-4d58-af0f-1a7b85909010",
   "metadata": {},
   "outputs": [],
   "source": [
    "os.system(\"nextcloudcmd\")"
   ]
  }
 ],
 "metadata": {
  "kernelspec": {
   "display_name": "Python 3 (ipykernel)",
   "language": "python",
   "name": "python3"
  },
  "language_info": {
   "codemirror_mode": {
    "name": "ipython",
    "version": 3
   },
   "file_extension": ".py",
   "mimetype": "text/x-python",
   "name": "python",
   "nbconvert_exporter": "python",
   "pygments_lexer": "ipython3",
   "version": "3.10.4"
  }
 },
 "nbformat": 4,
 "nbformat_minor": 5
}
