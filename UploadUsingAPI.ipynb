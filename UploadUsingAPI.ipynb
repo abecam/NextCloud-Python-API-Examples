{
 "cells": [
  {
   "cell_type": "code",
   "execution_count": null,
   "id": "ecc5a110-4179-47ef-986c-34d71a31e14c",
   "metadata": {},
   "outputs": [],
   "source": [
    "import os\n",
    "import requests\n",
    "import getpass\n",
    "\n",
    "base_url = 'https://your_nextcloud_url.com'\n",
    "\n",
    "session = requests.Session()\n",
    "\n",
    "username = input('Username:')\n",
    "\n",
    "session.auth = (username, getpass.getpass('Password'))"
   ]
  },
  {
   "cell_type": "markdown",
   "id": "2ef10f93-42e2-4c08-b4c8-652ea8fa2de7",
   "metadata": {},
   "source": [
    "Upload a file"
   ]
  },
  {
   "cell_type": "code",
   "execution_count": null,
   "id": "98649d7a-44cf-46bc-a9b7-526f915a4503",
   "metadata": {},
   "outputs": [],
   "source": [
    "with open(\"./VisbySmall.JPG\", 'rb') as f:\n",
    "            file_contents = f.read()"
   ]
  },
  {
   "cell_type": "code",
   "execution_count": null,
   "id": "8093e216-1a03-4add-b92c-a16488586622",
   "metadata": {},
   "outputs": [],
   "source": [
    "r = session.put(base_url + '/remote.php/dav/files/' + username + '/VisbySmall.JPG', data=file_contents)\n",
    "r.raise_for_status()"
   ]
  },
  {
   "cell_type": "markdown",
   "id": "fad7d78c-681c-4308-bea0-feeb87a5e62c",
   "metadata": {},
   "source": [
    "Download a file (here we assume a file exist in your user folder on NextCloud: Hello.txt in the subfolder API)"
   ]
  },
  {
   "cell_type": "code",
   "execution_count": null,
   "id": "b53d84b6-3a41-4260-a665-9e7d69beba5f",
   "metadata": {},
   "outputs": [],
   "source": [
    "url = base_url + '/remote.php/dav/files/'+ username + '/API/testdir/Hello.txt'\n",
    "\n",
    "r = session.get(url)\n",
    "r.raise_for_status()\n",
    "\n",
    "print (r.content)"
   ]
  },
  {
   "cell_type": "markdown",
   "id": "f7b2b349-9dd2-4d53-84b0-605686ff8ac0",
   "metadata": {},
   "source": [
    "Close the session"
   ]
  },
  {
   "cell_type": "code",
   "execution_count": null,
   "id": "7a0790b6-8790-4df7-8003-9b74fbfc9678",
   "metadata": {},
   "outputs": [],
   "source": [
    "session.close()"
   ]
  }
 ],
 "metadata": {
  "kernelspec": {
   "display_name": "Python 3.10.4 64-bit",
   "language": "python",
   "name": "python3"
  },
  "language_info": {
   "codemirror_mode": {
    "name": "ipython",
    "version": 3
   },
   "file_extension": ".py",
   "mimetype": "text/x-python",
   "name": "python",
   "nbconvert_exporter": "python",
   "pygments_lexer": "ipython3",
   "version": "3.10.4"
  },
  "vscode": {
   "interpreter": {
    "hash": "2db906ed3d279d9aab96dcbc9e86f3e800a16de74a7b32b237a08416bb5a6e21"
   }
  }
 },
 "nbformat": 4,
 "nbformat_minor": 5
}
