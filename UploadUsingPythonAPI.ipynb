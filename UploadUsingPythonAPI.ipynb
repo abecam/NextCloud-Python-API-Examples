{
 "cells": [
  {
   "cell_type": "markdown",
   "id": "340a5d2b-f4d9-48e5-990e-96acfd69f1d5",
   "metadata": {},
   "source": [
    "Upload using the Python NextCloud client  ( https://pypi.org/project/nextcloud-api-wrapper/ )\n",
    "** Important : install using the InstallPythonNextCloudClient first **"
   ]
  },
  {
   "cell_type": "code",
   "execution_count": null,
   "id": "b38a442d-2954-419a-83b3-eaae66a45bb0",
   "metadata": {},
   "outputs": [],
   "source": [
    "import nextcloud\n",
    "from nextcloud.codes import ShareType\n",
    "from pprint import pp\n",
    "    \n",
    "NEXTCLOUD_URL = \"https://your_nextcloud_url.com\"\n",
    "NEXTCLOUD_USERNAME = 'your_username'\n",
    "NEXTCLOUD_PASSWORD = 'your_password'\n",
    "\n",
    "nxc = nextcloud.NextCloud(endpoint=NEXTCLOUD_URL, user=NEXTCLOUD_USERNAME, password=NEXTCLOUD_PASSWORD)"
   ]
  },
  {
   "cell_type": "markdown",
   "id": "2ef10f93-42e2-4c08-b4c8-652ea8fa2de7",
   "metadata": {},
   "source": [
    "Create a folder in NextCloud"
   ]
  },
  {
   "cell_type": "code",
   "execution_count": null,
   "id": "8093e216-1a03-4add-b92c-a16488586622",
   "metadata": {},
   "outputs": [],
   "source": [
    "nxc.create_folder('API')"
   ]
  },
  {
   "cell_type": "markdown",
   "id": "fad7d78c-681c-4308-bea0-feeb87a5e62c",
   "metadata": {},
   "source": [
    "Upload a file"
   ]
  },
  {
   "cell_type": "code",
   "execution_count": null,
   "id": "b53d84b6-3a41-4260-a665-9e7d69beba5f",
   "metadata": {},
   "outputs": [],
   "source": [
    "nxc.upload_file('./VisbySmall.JPG', 'API/VisbySmall.JPG')"
   ]
  },
  {
   "cell_type": "markdown",
   "id": "f7b2b349-9dd2-4d53-84b0-605686ff8ac0",
   "metadata": {},
   "source": [
    "Share the file to a specific group"
   ]
  },
  {
   "cell_type": "code",
   "execution_count": null,
   "id": "5606cfd4-133d-4d58-af0f-1a7b85909010",
   "metadata": {},
   "outputs": [],
   "source": [
    "link_info = nxc.create_share('API/VisbySmall.JPG', ShareType.GROUP, \"one_group_name_in_nextcloud\")"
   ]
  },
  {
   "cell_type": "markdown",
   "id": "ccc0708b-cab7-4137-a720-89ede55ef592",
   "metadata": {},
   "source": [
    "Get all shares for this file"
   ]
  },
  {
   "cell_type": "code",
   "execution_count": null,
   "id": "f7713aaa-61d9-440c-975e-ca2826dd04da",
   "metadata": {},
   "outputs": [],
   "source": [
    "all_shares_for_our_file = nxc.get_shares_from_path('API/VisbySmall.JPG').data"
   ]
  },
  {
   "cell_type": "code",
   "execution_count": null,
   "id": "987e809e-11be-4029-966c-90700ae23604",
   "metadata": {},
   "outputs": [],
   "source": [
    "pp(all_shares_for_our_file)"
   ]
  },
  {
   "cell_type": "markdown",
   "id": "c8382367-e02f-4c6c-9d14-8226743bd199",
   "metadata": {},
   "source": [
    "All shares for the current user."
   ]
  },
  {
   "cell_type": "code",
   "execution_count": null,
   "id": "45433967-538a-4d1e-aa51-ddcdb0426ec3",
   "metadata": {},
   "outputs": [],
   "source": [
    "all_shares = nxc.get_shares().data\n",
    "pp(all_shares)"
   ]
  },
  {
   "cell_type": "markdown",
   "id": "c2c0992f-7e1d-4425-b241-ed3677b308cb",
   "metadata": {},
   "source": [
    "Download a file from NextCloud (here we assume a file exist in your user folder on NextCloud: Hello.txt in the subfolder testdir)"
   ]
  },
  {
   "cell_type": "code",
   "execution_count": null,
   "id": "c758a949-2894-4fca-9745-7dd7fe770e9b",
   "metadata": {},
   "outputs": [],
   "source": [
    "f = nxc.get_file('testdir/Hello.txt')\n",
    "\n",
    "pp(f.fetch_file_content())\n",
    "\n",
    "pp(f.download())"
   ]
  }
 ],
 "metadata": {
  "kernelspec": {
   "display_name": "Python 3.10.4 64-bit",
   "language": "python",
   "name": "python3"
  },
  "language_info": {
   "codemirror_mode": {
    "name": "ipython",
    "version": 3
   },
   "file_extension": ".py",
   "mimetype": "text/x-python",
   "name": "python",
   "nbconvert_exporter": "python",
   "pygments_lexer": "ipython3",
   "version": "3.10.4"
  },
  "vscode": {
   "interpreter": {
    "hash": "2db906ed3d279d9aab96dcbc9e86f3e800a16de74a7b32b237a08416bb5a6e21"
   }
  }
 },
 "nbformat": 4,
 "nbformat_minor": 5
}
